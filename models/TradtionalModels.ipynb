{
  "nbformat": 4,
  "nbformat_minor": 0,
  "metadata": {
    "colab": {
      "name": "TradtionalModels.ipynb",
      "version": "0.3.2",
      "provenance": []
    },
    "kernelspec": {
      "name": "python3",
      "display_name": "Python 3"
    },
    "accelerator": "GPU"
  },
  "cells": [
    {
      "metadata": {
        "id": "QwehZoBUEKkG",
        "colab_type": "code",
        "outputId": "85541bb7-a631-4e08-cc7b-aa2fad2f5e48",
        "colab": {
          "base_uri": "https://localhost:8080/",
          "height": 125
        }
      },
      "cell_type": "code",
      "source": [
        "from google.colab import drive\n",
        "drive.mount('/content/gdrive')"
      ],
      "execution_count": 4,
      "outputs": [
        {
          "output_type": "stream",
          "text": [
            "Go to this URL in a browser: https://accounts.google.com/o/oauth2/auth?client_id=947318989803-6bn6qk8qdgf4n4g3pfee6491hc0brc4i.apps.googleusercontent.com&redirect_uri=urn%3Aietf%3Awg%3Aoauth%3A2.0%3Aoob&scope=email%20https%3A%2F%2Fwww.googleapis.com%2Fauth%2Fdocs.test%20https%3A%2F%2Fwww.googleapis.com%2Fauth%2Fdrive%20https%3A%2F%2Fwww.googleapis.com%2Fauth%2Fdrive.photos.readonly%20https%3A%2F%2Fwww.googleapis.com%2Fauth%2Fpeopleapi.readonly&response_type=code\n",
            "\n",
            "Enter your authorization code:\n",
            "··········\n",
            "Mounted at /content/gdrive\n"
          ],
          "name": "stdout"
        }
      ]
    },
    {
      "metadata": {
        "id": "Wzab65KbJWfJ",
        "colab_type": "code",
        "colab": {}
      },
      "cell_type": "code",
      "source": [
        "import numpy as np\n",
        "import pandas as pd\n",
        "\n",
        "from sklearn.feature_extraction.text import TfidfVectorizer\n",
        "from sklearn.linear_model import LogisticRegression\n",
        "from sklearn.model_selection import cross_val_score\n",
        "from scipy.sparse import hstack\n",
        "from sklearn.model_selection import train_test_split\n",
        "\n",
        "class_names = ['toxic']\n",
        "\n",
        "train = pd.read_csv('gdrive/My Drive/jigsaw-toxic-comment-classification-challenge/train.csv').fillna(' ')\n",
        "test = pd.read_csv('gdrive/My Drive/jigsaw-toxic-comment-classification-challenge/test.csv').fillna(' ')\n",
        "\n",
        "train_text = train['comment_text']\n",
        "test_text = test['comment_text']\n",
        "all_text = pd.concat([train_text, test_text])\n",
        "\n",
        "word_vectorizer = TfidfVectorizer(\n",
        "    sublinear_tf=True,\n",
        "    strip_accents='unicode',\n",
        "    analyzer='word',\n",
        "    token_pattern=r'\\w{1,}',\n",
        "    stop_words='english',\n",
        "    ngram_range=(1, 1),\n",
        "    max_features=10000)\n",
        "word_vectorizer.fit(all_text)\n",
        "train_features = word_vectorizer.transform(train_text)\n",
        "test_features = word_vectorizer.transform(test_text)\n",
        "#print(train_features.shape)\n",
        "#print(test_features.shape)\n",
        "#scores = []\n",
        "train_target = train['toxic']\n",
        "#nrow_train = train.shape[0]\n",
        "X_train, X_test, Y_train, Y_test = train_test_split( train_features, train_target, test_size=0.2, random_state=42)"
      ],
      "execution_count": 0,
      "outputs": []
    },
    {
      "metadata": {
        "id": "MByiec4Cgxdu",
        "colab_type": "text"
      },
      "cell_type": "markdown",
      "source": [
        "**Logistic Regression**"
      ]
    },
    {
      "metadata": {
        "id": "HeXTCBtlgcR-",
        "colab_type": "code",
        "colab": {}
      },
      "cell_type": "code",
      "source": [
        "classifier = LogisticRegression(C=0.1, solver='sag')\n",
        "classifier.fit(X_train, Y_train)\n",
        "predictions = classifier.predict_proba(X_test)[:, 1]"
      ],
      "execution_count": 0,
      "outputs": []
    },
    {
      "metadata": {
        "id": "aovncCOaEvGs",
        "colab_type": "code",
        "outputId": "5ff8889f-2600-4fc8-d21f-b0ffdf8ecaac",
        "colab": {
          "base_uri": "https://localhost:8080/",
          "height": 313
        }
      },
      "cell_type": "code",
      "source": [
        "from sklearn.metrics import confusion_matrix, roc_curve, roc_auc_score, classification_report, accuracy_score\n",
        "\n",
        "\n",
        "print(\"roc_curve {}\".format(roc_auc_score(Y_test,predictions)));\n",
        "\n",
        "\n",
        "##Computing false and true positive rates\n",
        "fpr, tpr,_=roc_curve(Y_test,predictions)\n",
        "\n",
        "import matplotlib.pyplot as plt\n",
        "plt.figure()\n",
        "##Adding the ROC\n",
        "plt.plot(fpr, tpr, color='red',\n",
        " lw=2, label='ROC curve')\n",
        "##Random FPR and TPR\n",
        "plt.plot([0, 1], [0, 1], color='blue', lw=2, linestyle='--')\n",
        "##Title and label\n",
        "plt.xlabel('FPR')\n",
        "plt.ylabel('TPR')\n",
        "plt.title('ROC curve')\n",
        "plt.show()"
      ],
      "execution_count": 7,
      "outputs": [
        {
          "output_type": "stream",
          "text": [
            "roc_curve 0.9576527094454006\n"
          ],
          "name": "stdout"
        },
        {
          "output_type": "display_data",
          "data": {
            "image/png": "[encoded data removed]",
            "text/plain": [
              "<Figure size 432x288 with 1 Axes>"
            ]
          },
          "metadata": {
            "tags": []
          }
        }
      ]
    },
    {
      "metadata": {
        "id": "b261vYPtJu-4",
        "colab_type": "code",
        "outputId": "fd6ce28b-7d4a-44ee-8fa1-43c8dcfdb622",
        "colab": {
          "base_uri": "https://localhost:8080/",
          "height": 312
        }
      },
      "cell_type": "code",
      "source": [
        "\n",
        "for i in range(len(predictions)):\n",
        "    if predictions[i]>0.5:\n",
        "        predictions[i] = 1\n",
        "    else:\n",
        "        predictions[i] = 0\n",
        "\n",
        "#print(\"do\")\n",
        "\n",
        "print(\"accuracy {}\".format(accuracy_score(Y_test,predictions)));\n",
        "\n",
        "print(classification_report(Y_test, predictions))\n",
        "pd.DataFrame(confusion_matrix(Y_test, predictions),\n",
        "   index = [['Actual', 'Actual'], ['Not Toxic', 'Toxic']],\n",
        "   columns = [['Predicted', 'Predicted'], ['Not Toxic', 'Toxic']])\n",
        "\n",
        "#print(conf)"
      ],
      "execution_count": 8,
      "outputs": [
        {
          "output_type": "stream",
          "text": [
            "accuracy 0.9374588751370829\n",
            "              precision    recall  f1-score   support\n",
            "\n",
            "           0       0.94      1.00      0.97     28859\n",
            "           1       0.98      0.36      0.52      3056\n",
            "\n",
            "   micro avg       0.94      0.94      0.94     31915\n",
            "   macro avg       0.96      0.68      0.74     31915\n",
            "weighted avg       0.94      0.94      0.92     31915\n",
            "\n"
          ],
          "name": "stdout"
        },
        {
          "output_type": "execute_result",
          "data": {
            "text/html": [
              "<div>\n",
              "<style scoped>\n",
              "    .dataframe tbody tr th:only-of-type {\n",
              "        vertical-align: middle;\n",
              "    }\n",
              "\n",
              "    .dataframe tbody tr th {\n",
              "        vertical-align: top;\n",
              "    }\n",
              "\n",
              "    .dataframe thead tr th {\n",
              "        text-align: left;\n",
              "    }\n",
              "</style>\n",
              "<table border=\"1\" class=\"dataframe\">\n",
              "  <thead>\n",
              "    <tr>\n",
              "      <th></th>\n",
              "      <th></th>\n",
              "      <th colspan=\"2\" halign=\"left\">Predicted</th>\n",
              "    </tr>\n",
              "    <tr>\n",
              "      <th></th>\n",
              "      <th></th>\n",
              "      <th>Not Toxic</th>\n",
              "      <th>Toxic</th>\n",
              "    </tr>\n",
              "  </thead>\n",
              "  <tbody>\n",
              "    <tr>\n",
              "      <th rowspan=\"2\" valign=\"top\">Actual</th>\n",
              "      <th>Not Toxic</th>\n",
              "      <td>28832</td>\n",
              "      <td>27</td>\n",
              "    </tr>\n",
              "    <tr>\n",
              "      <th>Toxic</th>\n",
              "      <td>1969</td>\n",
              "      <td>1087</td>\n",
              "    </tr>\n",
              "  </tbody>\n",
              "</table>\n",
              "</div>"
            ],
            "text/plain": [
              "                 Predicted      \n",
              "                 Not Toxic Toxic\n",
              "Actual Not Toxic     28832    27\n",
              "       Toxic          1969  1087"
            ]
          },
          "metadata": {
            "tags": []
          },
          "execution_count": 8
        }
      ]
    },
    {
      "metadata": {
        "id": "G3kNFIiAg-j6",
        "colab_type": "text"
      },
      "cell_type": "markdown",
      "source": [
        "**Naive Bayes **"
      ]
    },
    {
      "metadata": {
        "id": "C9cpfgU8e4z2",
        "colab_type": "code",
        "colab": {}
      },
      "cell_type": "code",
      "source": [
        "from sklearn.naive_bayes import MultinomialNB\n",
        "from sklearn.metrics import precision_recall_fscore_support\n",
        "from sklearn.metrics import confusion_matrix, roc_curve, roc_auc_score, classification_report, accuracy_score, precision_recall_fscore_support\n",
        "\n",
        "gnb = MultinomialNB()\n",
        "gnb.fit(X_train, Y_train)\n",
        "\n",
        "predictions = gnb.predict(X_test)\n"
      ],
      "execution_count": 0,
      "outputs": []
    },
    {
      "metadata": {
        "id": "m3TG24Zze75F",
        "colab_type": "code",
        "outputId": "6a7a7820-ae1c-4496-b46c-db9698593c80",
        "colab": {
          "base_uri": "https://localhost:8080/",
          "height": 312
        }
      },
      "cell_type": "code",
      "source": [
        "#accuracy = accuracy_score(Y_test,predictions)\n",
        "#precision, recall, fscore, support = precision_recall_fscore_support(Y_test,predictions, average = 'weighted')\n",
        "\n",
        "#print('Train Accuracy -> ', train_accuracy)\n",
        "#print('Accuracy -> ', accuracy)\n",
        "#print('Precision -> ', precision)\n",
        "#print('Recall -> ', recall)\n",
        "#print('F-Score -> ', fscore)\n",
        "#print('Support -> ', support)\n",
        "print(\"accuracy {}\".format(accuracy_score(Y_test,predictions)))\n",
        "print(classification_report(Y_test, predictions))\n",
        "pd.DataFrame(confusion_matrix(Y_test, predictions),\n",
        "   index = [['Actual', 'Actual'], ['Not Toxic', 'Toxic']],\n",
        "   columns = [['Predicted', 'Predicted'], ['Not Toxic', 'Toxic']])"
      ],
      "execution_count": 10,
      "outputs": [
        {
          "output_type": "stream",
          "text": [
            "accuracy 0.949114836283879\n",
            "              precision    recall  f1-score   support\n",
            "\n",
            "           0       0.95      1.00      0.97     28859\n",
            "           1       0.92      0.51      0.66      3056\n",
            "\n",
            "   micro avg       0.95      0.95      0.95     31915\n",
            "   macro avg       0.94      0.75      0.82     31915\n",
            "weighted avg       0.95      0.95      0.94     31915\n",
            "\n"
          ],
          "name": "stdout"
        },
        {
          "output_type": "execute_result",
          "data": {
            "text/html": [
              "<div>\n",
              "<style scoped>\n",
              "    .dataframe tbody tr th:only-of-type {\n",
              "        vertical-align: middle;\n",
              "    }\n",
              "\n",
              "    .dataframe tbody tr th {\n",
              "        vertical-align: top;\n",
              "    }\n",
              "\n",
              "    .dataframe thead tr th {\n",
              "        text-align: left;\n",
              "    }\n",
              "</style>\n",
              "<table border=\"1\" class=\"dataframe\">\n",
              "  <thead>\n",
              "    <tr>\n",
              "      <th></th>\n",
              "      <th></th>\n",
              "      <th colspan=\"2\" halign=\"left\">Predicted</th>\n",
              "    </tr>\n",
              "    <tr>\n",
              "      <th></th>\n",
              "      <th></th>\n",
              "      <th>Not Toxic</th>\n",
              "      <th>Toxic</th>\n",
              "    </tr>\n",
              "  </thead>\n",
              "  <tbody>\n",
              "    <tr>\n",
              "      <th rowspan=\"2\" valign=\"top\">Actual</th>\n",
              "      <th>Not Toxic</th>\n",
              "      <td>28726</td>\n",
              "      <td>133</td>\n",
              "    </tr>\n",
              "    <tr>\n",
              "      <th>Toxic</th>\n",
              "      <td>1491</td>\n",
              "      <td>1565</td>\n",
              "    </tr>\n",
              "  </tbody>\n",
              "</table>\n",
              "</div>"
            ],
            "text/plain": [
              "                 Predicted      \n",
              "                 Not Toxic Toxic\n",
              "Actual Not Toxic     28726   133\n",
              "       Toxic          1491  1565"
            ]
          },
          "metadata": {
            "tags": []
          },
          "execution_count": 10
        }
      ]
    },
    {
      "metadata": {
        "id": "Cv2XI06lhFdQ",
        "colab_type": "text"
      },
      "cell_type": "markdown",
      "source": [
        "**SVM**"
      ]
    },
    {
      "metadata": {
        "id": "IKurZp5UhNwF",
        "colab_type": "code",
        "outputId": "0ac49081-2128-472d-db6b-52a584904dfd",
        "colab": {
          "base_uri": "https://localhost:8080/",
          "height": 87
        }
      },
      "cell_type": "code",
      "source": [
        "from sklearn import svm\n",
        "from sklearn.model_selection import GridSearchCV\n",
        "\n",
        "svm_model = svm.SVC(C = 0.1, kernel = 'linear')\n",
        "svm_model.fit(X_train, Y_train)"
      ],
      "execution_count": 0,
      "outputs": [
        {
          "output_type": "execute_result",
          "data": {
            "text/plain": [
              "SVC(C=0.1, cache_size=200, class_weight=None, coef0=0.0,\n",
              "  decision_function_shape='ovr', degree=3, gamma='auto_deprecated',\n",
              "  kernel='linear', max_iter=-1, probability=False, random_state=None,\n",
              "  shrinking=True, tol=0.001, verbose=False)"
            ]
          },
          "metadata": {
            "tags": []
          },
          "execution_count": 13
        }
      ]
    },
    {
      "metadata": {
        "id": "WbGEFZsYhJ6D",
        "colab_type": "code",
        "outputId": "399ee37c-9912-49b9-9456-7310da14332a",
        "colab": {
          "base_uri": "https://localhost:8080/",
          "height": 294
        }
      },
      "cell_type": "code",
      "source": [
        "predictions = svm_model.predict(X_test)\n",
        "\n",
        "#precision, recall, fscore, support = precision_recall_fscore_support(Y_test,predictions, average = 'weighted')\n",
        "\n",
        "#print('Train Accuracy -> ', train_accuracy)\n",
        "#print('Accuracy -> ', accuracy)\n",
        "#print('Precision -> ', precision)\n",
        "#print('Recall -> ', recall)\n",
        "#print('F-Score -> ', fscore)\n",
        "#print('Support -> ', support)\n",
        "print(\"accuracy {}\".format(accuracy_score(Y_test,predictions)));\n",
        "print(classification_report(Y_test, predictions))\n",
        "pd.DataFrame(confusion_matrix(Y_test, predictions),\n",
        "   index = [['Actual', 'Actual'], ['Not Toxic', 'Toxic']],\n",
        "   columns = [['Predicted', 'Predicted'], ['Not Toxic', 'Toxic']])"
      ],
      "execution_count": 0,
      "outputs": [
        {
          "output_type": "stream",
          "text": [
            "              precision    recall  f1-score   support\n",
            "\n",
            "           0       0.95      1.00      0.97     28859\n",
            "           1       0.95      0.50      0.65      3056\n",
            "\n",
            "   micro avg       0.95      0.95      0.95     31915\n",
            "   macro avg       0.95      0.75      0.81     31915\n",
            "weighted avg       0.95      0.95      0.94     31915\n",
            "\n"
          ],
          "name": "stdout"
        },
        {
          "output_type": "execute_result",
          "data": {
            "text/html": [
              "<div>\n",
              "<style scoped>\n",
              "    .dataframe tbody tr th:only-of-type {\n",
              "        vertical-align: middle;\n",
              "    }\n",
              "\n",
              "    .dataframe tbody tr th {\n",
              "        vertical-align: top;\n",
              "    }\n",
              "\n",
              "    .dataframe thead tr th {\n",
              "        text-align: left;\n",
              "    }\n",
              "</style>\n",
              "<table border=\"1\" class=\"dataframe\">\n",
              "  <thead>\n",
              "    <tr>\n",
              "      <th></th>\n",
              "      <th></th>\n",
              "      <th colspan=\"2\" halign=\"left\">Predicted</th>\n",
              "    </tr>\n",
              "    <tr>\n",
              "      <th></th>\n",
              "      <th></th>\n",
              "      <th>Not Toxic</th>\n",
              "      <th>Toxic</th>\n",
              "    </tr>\n",
              "  </thead>\n",
              "  <tbody>\n",
              "    <tr>\n",
              "      <th rowspan=\"2\" valign=\"top\">Actual</th>\n",
              "      <th>Not Toxic</th>\n",
              "      <td>28787</td>\n",
              "      <td>72</td>\n",
              "    </tr>\n",
              "    <tr>\n",
              "      <th>Toxic</th>\n",
              "      <td>1537</td>\n",
              "      <td>1519</td>\n",
              "    </tr>\n",
              "  </tbody>\n",
              "</table>\n",
              "</div>"
            ],
            "text/plain": [
              "                 Predicted      \n",
              "                 Not Toxic Toxic\n",
              "Actual Not Toxic     28787    72\n",
              "       Toxic          1537  1519"
            ]
          },
          "metadata": {
            "tags": []
          },
          "execution_count": 15
        }
      ]
    }
  ]
}