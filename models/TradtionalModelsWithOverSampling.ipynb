{
  "nbformat": 4,
  "nbformat_minor": 0,
  "metadata": {
    "colab": {
      "name": "TradtionalModelsampl.ipynb",
      "version": "0.3.2",
      "provenance": [],
      "collapsed_sections": []
    },
    "kernelspec": {
      "name": "python3",
      "display_name": "Python 3"
    },
    "accelerator": "GPU"
  },
  "cells": [
    {
      "metadata": {
        "id": "QwehZoBUEKkG",
        "colab_type": "code",
        "outputId": "affeb620-2500-463c-b4e6-786486ee9782",
        "colab": {
          "base_uri": "https://localhost:8080/",
          "height": 125
        }
      },
      "cell_type": "code",
      "source": [
        "from google.colab import drive\n",
        "drive.mount('/content/gdrive')"
      ],
      "execution_count": 0,
      "outputs": [
        {
          "output_type": "stream",
          "text": [
            "Go to this URL in a browser: https://accounts.google.com/o/oauth2/auth?client_id=947318989803-6bn6qk8qdgf4n4g3pfee6491hc0brc4i.apps.googleusercontent.com&redirect_uri=urn%3Aietf%3Awg%3Aoauth%3A2.0%3Aoob&scope=email%20https%3A%2F%2Fwww.googleapis.com%2Fauth%2Fdocs.test%20https%3A%2F%2Fwww.googleapis.com%2Fauth%2Fdrive%20https%3A%2F%2Fwww.googleapis.com%2Fauth%2Fdrive.photos.readonly%20https%3A%2F%2Fwww.googleapis.com%2Fauth%2Fpeopleapi.readonly&response_type=code\n",
            "\n",
            "Enter your authorization code:\n",
            "··········\n",
            "Mounted at /content/gdrive\n"
          ],
          "name": "stdout"
        }
      ]
    },
    {
      "metadata": {
        "id": "Wzab65KbJWfJ",
        "colab_type": "code",
        "colab": {}
      },
      "cell_type": "code",
      "source": [
        "import numpy as np\n",
        "import pandas as pd\n",
        "\n",
        "from sklearn.feature_extraction.text import TfidfVectorizer\n",
        "from sklearn.linear_model import LogisticRegression\n",
        "from sklearn.model_selection import cross_val_score\n",
        "from scipy.sparse import hstack\n",
        "from sklearn.model_selection import train_test_split\n",
        "\n",
        "class_names = ['toxic']\n",
        "\n",
        "train = pd.read_csv('gdrive/My Drive/jigsaw-toxic-comment-classification-challenge/train.csv').fillna(' ')\n",
        "test = pd.read_csv('gdrive/My Drive/jigsaw-toxic-comment-classification-challenge/test.csv').fillna(' ')\n",
        "\n",
        "train_text = train['comment_text']\n",
        "test_text = test['comment_text']\n",
        "all_text = pd.concat([train_text, test_text])\n",
        "\n",
        "word_vectorizer = TfidfVectorizer(\n",
        "    sublinear_tf=True,\n",
        "    strip_accents='unicode',\n",
        "    analyzer='word',\n",
        "    token_pattern=r'\\w{1,}',\n",
        "    stop_words='english',\n",
        "    ngram_range=(1, 1),\n",
        "    max_features=10000)\n",
        "word_vectorizer.fit(all_text)\n",
        "train_features = word_vectorizer.transform(train_text)\n",
        "test_features = word_vectorizer.transform(test_text)\n",
        "#print(train_features.shape)\n",
        "#print(test_features.shape)\n",
        "#scores = []\n",
        "train_target = train['toxic']\n",
        "#nrow_train = train.shape[0]\n",
        "#X_train, X_test, Y_train, Y_test = train_test_split( train_features, train_target, test_size=0.2, random_state=42)"
      ],
      "execution_count": 0,
      "outputs": []
    },
    {
      "metadata": {
        "id": "72T4sbZ8yl4y",
        "colab_type": "code",
        "colab": {}
      },
      "cell_type": "code",
      "source": [
        "from imblearn.over_sampling import RandomOverSampler\n",
        "\n",
        "ros = RandomOverSampler(random_state=42)\n",
        "X_train, X_test, Y_train, Y_test = train_test_split( train_features, train_target, test_size=0.2, random_state=42)\n",
        "X_train, Y_train = ros.fit_resample(X_train, Y_train)\n",
        "\n"
      ],
      "execution_count": 0,
      "outputs": []
    },
    {
      "metadata": {
        "id": "MByiec4Cgxdu",
        "colab_type": "text"
      },
      "cell_type": "markdown",
      "source": [
        "**Logistic Regression**"
      ]
    },
    {
      "metadata": {
        "id": "HeXTCBtlgcR-",
        "colab_type": "code",
        "colab": {}
      },
      "cell_type": "code",
      "source": [
        "classifier = LogisticRegression(C=0.1, solver='sag')\n",
        "classifier.fit(X_train, Y_train)\n",
        "predictions = classifier.predict_proba(X_test)[:, 1]"
      ],
      "execution_count": 0,
      "outputs": []
    },
    {
      "metadata": {
        "id": "aovncCOaEvGs",
        "colab_type": "code",
        "outputId": "54085a50-adc7-4d2b-f8b5-f14d8ebd5b2c",
        "colab": {
          "base_uri": "https://localhost:8080/",
          "height": 313
        }
      },
      "cell_type": "code",
      "source": [
        "from sklearn.metrics import confusion_matrix, roc_curve, roc_auc_score, classification_report, accuracy_score\n",
        "\n",
        "\n",
        "print(\"roc_curve {}\".format(roc_auc_score(Y_test,predictions)));\n",
        "\n",
        "\n",
        "##Computing false and true positive rates\n",
        "fpr, tpr,_=roc_curve(Y_test,predictions)\n",
        "\n",
        "import matplotlib.pyplot as plt\n",
        "plt.figure()\n",
        "##Adding the ROC\n",
        "plt.plot(fpr, tpr, color='red',\n",
        " lw=2, label='ROC curve')\n",
        "##Random FPR and TPR\n",
        "plt.plot([0, 1], [0, 1], color='blue', lw=2, linestyle='--')\n",
        "##Title and label\n",
        "plt.xlabel('FPR')\n",
        "plt.ylabel('TPR')\n",
        "plt.title('ROC curve')\n",
        "plt.show()"
      ],
      "execution_count": 0,
      "outputs": [
        {
          "output_type": "stream",
          "text": [
            "roc_curve 0.9653457485746278\n"
          ],
          "name": "stdout"
        },
        {
          "output_type": "display_data",
          "data": {
            "image/png": "[encoded data removed]",
            "text/plain": [
              "<Figure size 432x288 with 1 Axes>"
            ]
          },
          "metadata": {
            "tags": []
          }
        }
      ]
    },
    {
      "metadata": {
        "id": "b261vYPtJu-4",
        "colab_type": "code",
        "outputId": "ef87db53-ed6d-4a6a-8e8a-16981a88f6de",
        "colab": {
          "base_uri": "https://localhost:8080/",
          "height": 312
        }
      },
      "cell_type": "code",
      "source": [
        "\n",
        "for i in range(len(predictions)):\n",
        "    if predictions[i]>0.5:\n",
        "        predictions[i] = 1\n",
        "    else:\n",
        "        predictions[i] = 0\n",
        "\n",
        "#print(\"do\")\n",
        "\n",
        "print(\"accuracy {}\".format(accuracy_score(Y_test,predictions)));\n",
        "\n",
        "print(classification_report(Y_test, predictions))\n",
        "pd.DataFrame(confusion_matrix(Y_test, predictions),\n",
        "   index = [['Actual', 'Actual'], ['Not Toxic', 'Toxic']],\n",
        "   columns = [['Predicted', 'Predicted'], ['Not Toxic', 'Toxic']])\n",
        "\n",
        "#print(conf)"
      ],
      "execution_count": 0,
      "outputs": [
        {
          "output_type": "stream",
          "text": [
            "accuracy 0.9309415635281215\n",
            "              precision    recall  f1-score   support\n",
            "\n",
            "           0       0.98      0.94      0.96     28859\n",
            "           1       0.60      0.85      0.70      3056\n",
            "\n",
            "   micro avg       0.93      0.93      0.93     31915\n",
            "   macro avg       0.79      0.89      0.83     31915\n",
            "weighted avg       0.95      0.93      0.94     31915\n",
            "\n"
          ],
          "name": "stdout"
        },
        {
          "output_type": "execute_result",
          "data": {
            "text/html": [
              "<div>\n",
              "<style scoped>\n",
              "    .dataframe tbody tr th:only-of-type {\n",
              "        vertical-align: middle;\n",
              "    }\n",
              "\n",
              "    .dataframe tbody tr th {\n",
              "        vertical-align: top;\n",
              "    }\n",
              "\n",
              "    .dataframe thead tr th {\n",
              "        text-align: left;\n",
              "    }\n",
              "</style>\n",
              "<table border=\"1\" class=\"dataframe\">\n",
              "  <thead>\n",
              "    <tr>\n",
              "      <th></th>\n",
              "      <th></th>\n",
              "      <th colspan=\"2\" halign=\"left\">Predicted</th>\n",
              "    </tr>\n",
              "    <tr>\n",
              "      <th></th>\n",
              "      <th></th>\n",
              "      <th>Not Toxic</th>\n",
              "      <th>Toxic</th>\n",
              "    </tr>\n",
              "  </thead>\n",
              "  <tbody>\n",
              "    <tr>\n",
              "      <th rowspan=\"2\" valign=\"top\">Actual</th>\n",
              "      <th>Not Toxic</th>\n",
              "      <td>27127</td>\n",
              "      <td>1732</td>\n",
              "    </tr>\n",
              "    <tr>\n",
              "      <th>Toxic</th>\n",
              "      <td>472</td>\n",
              "      <td>2584</td>\n",
              "    </tr>\n",
              "  </tbody>\n",
              "</table>\n",
              "</div>"
            ],
            "text/plain": [
              "                 Predicted      \n",
              "                 Not Toxic Toxic\n",
              "Actual Not Toxic     27127  1732\n",
              "       Toxic           472  2584"
            ]
          },
          "metadata": {
            "tags": []
          },
          "execution_count": 6
        }
      ]
    },
    {
      "metadata": {
        "id": "G3kNFIiAg-j6",
        "colab_type": "text"
      },
      "cell_type": "markdown",
      "source": [
        "**Naive Bayes **"
      ]
    },
    {
      "metadata": {
        "id": "C9cpfgU8e4z2",
        "colab_type": "code",
        "colab": {}
      },
      "cell_type": "code",
      "source": [
        "from sklearn.naive_bayes import MultinomialNB\n",
        "from sklearn.metrics import precision_recall_fscore_support\n",
        "from sklearn.metrics import confusion_matrix, roc_curve, roc_auc_score, classification_report, accuracy_score, precision_recall_fscore_support\n",
        "\n",
        "gnb = MultinomialNB()\n",
        "gnb.fit(X_train, Y_train)\n",
        "\n",
        "predictions = gnb.predict(X_test)\n"
      ],
      "execution_count": 0,
      "outputs": []
    },
    {
      "metadata": {
        "id": "m3TG24Zze75F",
        "colab_type": "code",
        "outputId": "21f82417-5b81-4a89-fa85-a098c5465a23",
        "colab": {
          "base_uri": "https://localhost:8080/",
          "height": 312
        }
      },
      "cell_type": "code",
      "source": [
        "accuracy = accuracy_score(Y_test,predictions)\n",
        "#precision, recall, fscore, support = precision_recall_fscore_support(Y_test,predictions, average = 'weighted')\n",
        "\n",
        "#print('Train Accuracy -> ', train_accuracy)\n",
        "#print('Accuracy -> ', accuracy)\n",
        "#print('Precision -> ', precision)\n",
        "#print('Recall -> ', recall)\n",
        "#print('F-Score -> ', fscore)\n",
        "#print('Support -> ', support)\n",
        "print(\"accuracy {}\".format(accuracy_score(Y_test,predictions)));\n",
        "\n",
        "print(classification_report(Y_test, predictions))\n",
        "pd.DataFrame(confusion_matrix(Y_test, predictions),\n",
        "   index = [['Actual', 'Actual'], ['Not Toxic', 'Toxic']],\n",
        "   columns = [['Predicted', 'Predicted'], ['Not Toxic', 'Toxic']])"
      ],
      "execution_count": 0,
      "outputs": [
        {
          "output_type": "stream",
          "text": [
            "accuracy 0.8795237349208836\n",
            "              precision    recall  f1-score   support\n",
            "\n",
            "           0       0.99      0.88      0.93     28859\n",
            "           1       0.44      0.88      0.58      3056\n",
            "\n",
            "   micro avg       0.88      0.88      0.88     31915\n",
            "   macro avg       0.71      0.88      0.76     31915\n",
            "weighted avg       0.93      0.88      0.90     31915\n",
            "\n"
          ],
          "name": "stdout"
        },
        {
          "output_type": "execute_result",
          "data": {
            "text/html": [
              "<div>\n",
              "<style scoped>\n",
              "    .dataframe tbody tr th:only-of-type {\n",
              "        vertical-align: middle;\n",
              "    }\n",
              "\n",
              "    .dataframe tbody tr th {\n",
              "        vertical-align: top;\n",
              "    }\n",
              "\n",
              "    .dataframe thead tr th {\n",
              "        text-align: left;\n",
              "    }\n",
              "</style>\n",
              "<table border=\"1\" class=\"dataframe\">\n",
              "  <thead>\n",
              "    <tr>\n",
              "      <th></th>\n",
              "      <th></th>\n",
              "      <th colspan=\"2\" halign=\"left\">Predicted</th>\n",
              "    </tr>\n",
              "    <tr>\n",
              "      <th></th>\n",
              "      <th></th>\n",
              "      <th>Not Toxic</th>\n",
              "      <th>Toxic</th>\n",
              "    </tr>\n",
              "  </thead>\n",
              "  <tbody>\n",
              "    <tr>\n",
              "      <th rowspan=\"2\" valign=\"top\">Actual</th>\n",
              "      <th>Not Toxic</th>\n",
              "      <td>25375</td>\n",
              "      <td>3484</td>\n",
              "    </tr>\n",
              "    <tr>\n",
              "      <th>Toxic</th>\n",
              "      <td>361</td>\n",
              "      <td>2695</td>\n",
              "    </tr>\n",
              "  </tbody>\n",
              "</table>\n",
              "</div>"
            ],
            "text/plain": [
              "                 Predicted      \n",
              "                 Not Toxic Toxic\n",
              "Actual Not Toxic     25375  3484\n",
              "       Toxic           361  2695"
            ]
          },
          "metadata": {
            "tags": []
          },
          "execution_count": 8
        }
      ]
    },
    {
      "metadata": {
        "id": "Cv2XI06lhFdQ",
        "colab_type": "text"
      },
      "cell_type": "markdown",
      "source": [
        "**SVM**"
      ]
    },
    {
      "metadata": {
        "id": "IKurZp5UhNwF",
        "colab_type": "code",
        "outputId": "bab3cfd0-8371-4fed-e6d3-6d81b134fb1f",
        "colab": {
          "base_uri": "https://localhost:8080/",
          "height": 87
        }
      },
      "cell_type": "code",
      "source": [
        "from sklearn import svm\n",
        "from sklearn.model_selection import GridSearchCV\n",
        "\n",
        "svm_model = svm.SVC(C = 0.1, kernel = 'linear')\n",
        "svm_model.fit(X_train, Y_train)"
      ],
      "execution_count": 0,
      "outputs": [
        {
          "output_type": "execute_result",
          "data": {
            "text/plain": [
              "SVC(C=0.1, cache_size=200, class_weight=None, coef0=0.0,\n",
              "  decision_function_shape='ovr', degree=3, gamma='auto_deprecated',\n",
              "  kernel='linear', max_iter=-1, probability=False, random_state=None,\n",
              "  shrinking=True, tol=0.001, verbose=False)"
            ]
          },
          "metadata": {
            "tags": []
          },
          "execution_count": 9
        }
      ]
    },
    {
      "metadata": {
        "id": "WbGEFZsYhJ6D",
        "colab_type": "code",
        "outputId": "2c30940a-843f-44ee-b996-60291627c82a",
        "colab": {
          "base_uri": "https://localhost:8080/",
          "height": 294
        }
      },
      "cell_type": "code",
      "source": [
        "predictions = svm_model.predict(X_test)\n",
        "\n",
        "#precision, recall, fscore, support = precision_recall_fscore_support(Y_test,predictions, average = 'weighted')\n",
        "\n",
        "#print('Train Accuracy -> ', train_accuracy)\n",
        "#print('Accuracy -> ', accuracy)\n",
        "#print('Precision -> ', precision)\n",
        "#print('Recall -> ', recall)\n",
        "#print('F-Score -> ', fscore)\n",
        "#print('Support -> ', support)\n",
        "\n",
        "print(classification_report(Y_test, predictions))\n",
        "pd.DataFrame(confusion_matrix(Y_test, predictions),\n",
        "   index = [['Actual', 'Actual'], ['Not Toxic', 'Toxic']],\n",
        "   columns = [['Predicted', 'Predicted'], ['Not Toxic', 'Toxic']])"
      ],
      "execution_count": 0,
      "outputs": [
        {
          "output_type": "stream",
          "text": [
            "              precision    recall  f1-score   support\n",
            "\n",
            "           0       0.98      0.94      0.96     28859\n",
            "           1       0.62      0.86      0.72      3056\n",
            "\n",
            "   micro avg       0.94      0.94      0.94     31915\n",
            "   macro avg       0.80      0.90      0.84     31915\n",
            "weighted avg       0.95      0.94      0.94     31915\n",
            "\n"
          ],
          "name": "stdout"
        },
        {
          "output_type": "execute_result",
          "data": {
            "text/html": [
              "<div>\n",
              "<style scoped>\n",
              "    .dataframe tbody tr th:only-of-type {\n",
              "        vertical-align: middle;\n",
              "    }\n",
              "\n",
              "    .dataframe tbody tr th {\n",
              "        vertical-align: top;\n",
              "    }\n",
              "\n",
              "    .dataframe thead tr th {\n",
              "        text-align: left;\n",
              "    }\n",
              "</style>\n",
              "<table border=\"1\" class=\"dataframe\">\n",
              "  <thead>\n",
              "    <tr>\n",
              "      <th></th>\n",
              "      <th></th>\n",
              "      <th colspan=\"2\" halign=\"left\">Predicted</th>\n",
              "    </tr>\n",
              "    <tr>\n",
              "      <th></th>\n",
              "      <th></th>\n",
              "      <th>Not Toxic</th>\n",
              "      <th>Toxic</th>\n",
              "    </tr>\n",
              "  </thead>\n",
              "  <tbody>\n",
              "    <tr>\n",
              "      <th rowspan=\"2\" valign=\"top\">Actual</th>\n",
              "      <th>Not Toxic</th>\n",
              "      <td>27242</td>\n",
              "      <td>1617</td>\n",
              "    </tr>\n",
              "    <tr>\n",
              "      <th>Toxic</th>\n",
              "      <td>436</td>\n",
              "      <td>2620</td>\n",
              "    </tr>\n",
              "  </tbody>\n",
              "</table>\n",
              "</div>"
            ],
            "text/plain": [
              "                 Predicted      \n",
              "                 Not Toxic Toxic\n",
              "Actual Not Toxic     27242  1617\n",
              "       Toxic           436  2620"
            ]
          },
          "metadata": {
            "tags": []
          },
          "execution_count": 10
        }
      ]
    },
    {
      "metadata": {
        "id": "QoW_AQ4JeaQs",
        "colab_type": "code",
        "outputId": "fb012777-045a-493a-e79b-fb5308af8e7c",
        "colab": {
          "base_uri": "https://localhost:8080/",
          "height": 122
        }
      },
      "cell_type": "code",
      "source": [
        "from sklearn.ensemble import RandomForestClassifier \n",
        "#rfc = RandomForestClassifier(n_estimators=1000, max_leaf_nodes=18, random_state=21)\n",
        "rfc = RandomForestClassifier(n_estimators=10000, max_leaf_nodes=100, random_state=21)\n",
        "rfc.fit(X_train, Y_train)"
      ],
      "execution_count": 0,
      "outputs": [
        {
          "output_type": "execute_result",
          "data": {
            "text/plain": [
              "RandomForestClassifier(bootstrap=True, class_weight=None, criterion='gini',\n",
              "            max_depth=None, max_features='auto', max_leaf_nodes=100,\n",
              "            min_impurity_decrease=0.0, min_impurity_split=None,\n",
              "            min_samples_leaf=1, min_samples_split=2,\n",
              "            min_weight_fraction_leaf=0.0, n_estimators=10000, n_jobs=None,\n",
              "            oob_score=False, random_state=21, verbose=0, warm_start=False)"
            ]
          },
          "metadata": {
            "tags": []
          },
          "execution_count": 11
        }
      ]
    },
    {
      "metadata": {
        "id": "xx6RyzmEeeGx",
        "colab_type": "code",
        "outputId": "e01937a5-33be-4c0d-8124-cb5a0c6f886c",
        "colab": {
          "base_uri": "https://localhost:8080/",
          "height": 382
        }
      },
      "cell_type": "code",
      "source": [
        "from sklearn.metrics import precision_recall_fscore_support\n",
        "from sklearn.metrics import confusion_matrix, roc_curve, roc_auc_score, classification_report, accuracy_score, precision_recall_fscore_support\n",
        "\n",
        "predictions = rfc.predict(X_test)\n",
        "\n",
        "accuracy = accuracy_score(Y_test,predictions)\n",
        "precision, recall, fscore, support = precision_recall_fscore_support(Y_test,predictions, average = 'weighted')\n",
        "\n",
        "#print('Train Accuracy -> ', train_accuracy)\n",
        "print('Accuracy -> ', accuracy)\n",
        "print('Precision -> ', precision)\n",
        "print('Recall -> ', recall)\n",
        "print('F-Score -> ', fscore)\n",
        "print('Support -> ', support)\n",
        "\n",
        "print(classification_report(Y_test, predictions))\n",
        "pd.DataFrame(confusion_matrix(Y_test, predictions),\n",
        "   index = [['Actual', 'Actual'], ['Not Toxic', 'Toxic']],\n",
        "   columns = [['Predicted', 'Predicted'], ['Not Toxic', 'Toxic']])"
      ],
      "execution_count": 0,
      "outputs": [
        {
          "output_type": "stream",
          "text": [
            "Accuracy ->  0.9292495691681028\n",
            "Precision ->  0.9395362386818992\n",
            "Recall ->  0.9292495691681028\n",
            "F-Score ->  0.9331465433336943\n",
            "Support ->  None\n",
            "              precision    recall  f1-score   support\n",
            "\n",
            "           0       0.98      0.95      0.96     28859\n",
            "           1       0.60      0.77      0.68      3056\n",
            "\n",
            "   micro avg       0.93      0.93      0.93     31915\n",
            "   macro avg       0.79      0.86      0.82     31915\n",
            "weighted avg       0.94      0.93      0.93     31915\n",
            "\n"
          ],
          "name": "stdout"
        },
        {
          "output_type": "execute_result",
          "data": {
            "text/html": [
              "<div>\n",
              "<style scoped>\n",
              "    .dataframe tbody tr th:only-of-type {\n",
              "        vertical-align: middle;\n",
              "    }\n",
              "\n",
              "    .dataframe tbody tr th {\n",
              "        vertical-align: top;\n",
              "    }\n",
              "\n",
              "    .dataframe thead tr th {\n",
              "        text-align: left;\n",
              "    }\n",
              "</style>\n",
              "<table border=\"1\" class=\"dataframe\">\n",
              "  <thead>\n",
              "    <tr>\n",
              "      <th></th>\n",
              "      <th></th>\n",
              "      <th colspan=\"2\" halign=\"left\">Predicted</th>\n",
              "    </tr>\n",
              "    <tr>\n",
              "      <th></th>\n",
              "      <th></th>\n",
              "      <th>Not Toxic</th>\n",
              "      <th>Toxic</th>\n",
              "    </tr>\n",
              "  </thead>\n",
              "  <tbody>\n",
              "    <tr>\n",
              "      <th rowspan=\"2\" valign=\"top\">Actual</th>\n",
              "      <th>Not Toxic</th>\n",
              "      <td>27291</td>\n",
              "      <td>1568</td>\n",
              "    </tr>\n",
              "    <tr>\n",
              "      <th>Toxic</th>\n",
              "      <td>690</td>\n",
              "      <td>2366</td>\n",
              "    </tr>\n",
              "  </tbody>\n",
              "</table>\n",
              "</div>"
            ],
            "text/plain": [
              "                 Predicted      \n",
              "                 Not Toxic Toxic\n",
              "Actual Not Toxic     27291  1568\n",
              "       Toxic           690  2366"
            ]
          },
          "metadata": {
            "tags": []
          },
          "execution_count": 12
        }
      ]
    }
  ]
}